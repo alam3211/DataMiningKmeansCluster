{
 "cells": [
  {
   "cell_type": "code",
   "execution_count": 23,
   "metadata": {},
   "outputs": [
    {
     "data": {
      "text/plain": [
       "Q-E         60081.0\n",
       "ZN-E           33.5\n",
       "PH-E            8.7\n",
       "DBO-E         438.0\n",
       "DQO-E         941.0\n",
       "SS-E         2008.0\n",
       "SSV-E          85.0\n",
       "SED-E          36.0\n",
       "COND-E       3230.0\n",
       "PH-P            8.5\n",
       "DBO-P         517.0\n",
       "SS-P         1692.0\n",
       "SSV-P          93.5\n",
       "SED-P          46.0\n",
       "COND-P       3170.0\n",
       "PH-D            8.4\n",
       "DBO-D         285.0\n",
       "DQO-D         511.0\n",
       "SS-D          244.0\n",
       "SSV-D         100.0\n",
       "SED-D           3.5\n",
       "COND-D       3690.0\n",
       "PH-S            9.7\n",
       "DBO-S         320.0\n",
       "SQO-S         350.0\n",
       "SS-S          238.0\n",
       "SSV-S         100.0\n",
       "SED-S           3.5\n",
       "COND-S       3950.0\n",
       "RD-DBO-P       79.1\n",
       "RD-SS-P        96.1\n",
       "RD-SED-P      100.0\n",
       "RD-DBO-S       94.7\n",
       "RD-DQO-S       96.8\n",
       "RD-DBO-G       97.0\n",
       "RD-DQO-G       98.1\n",
       "RD-SS-G        99.4\n",
       "RD-SED-G      100.0\n",
       "dtype: float64"
      ]
     },
     "execution_count": 23,
     "metadata": {},
     "output_type": "execute_result"
    }
   ],
   "source": [
    "import pandas as pd\n",
    "from sklearn import datasets\n",
    "\n",
    "titanic_url = ('Dataset/Water Treatment Plant Data Set/water-treatment.data')\n",
    "data = pd.read_csv(titanic_url,names=[\n",
    "        \"Q-E\",\"ZN-E\",\"PH-E\",\"DBO-E\",\"DQO-E\",\"SS-E\",\"SSV-E\",\"SED-E\",\"COND-E\",\n",
    "        \"PH-P\",\"DBO-P\",\"SS-P\",\"SSV-P\",\"SED-P\",\"COND-P\",\"PH-D\",\"DBO-D\",\"DQO-D\",\"SS-D\"\n",
    "        ,\"SSV-D\",\"SED-D\",\"COND-D\",\"PH-S\",\"DBO-S\",\"SQO-S\",\"SS-S\",\"SSV-S\",\"SED-S\",\"COND-S\"\n",
    "        ,\"RD-DBO-P\",\"RD-SS-P\",\"RD-SED-P\",\"RD-DBO-S\",\"RD-DQO-S\",\"RD-DBO-G\",\"RD-DQO-G\"\n",
    "        ,\"RD-SS-G\",\"RD-SED-G\"],\n",
    "        engine='python',\n",
    "        na_values=\"?\")\n",
    "\n",
    "data.head(100)\n",
    "data.max()"
   ]
  },
  {
   "cell_type": "code",
   "execution_count": null,
   "metadata": {},
   "outputs": [],
   "source": []
  },
  {
   "cell_type": "code",
   "execution_count": null,
   "metadata": {},
   "outputs": [],
   "source": []
  },
  {
   "cell_type": "code",
   "execution_count": null,
   "metadata": {},
   "outputs": [],
   "source": []
  },
  {
   "cell_type": "code",
   "execution_count": null,
   "metadata": {},
   "outputs": [],
   "source": []
  }
 ],
 "metadata": {
  "kernelspec": {
   "display_name": "Python 3",
   "language": "python",
   "name": "python3"
  },
  "language_info": {
   "codemirror_mode": {
    "name": "ipython",
    "version": 3
   },
   "file_extension": ".py",
   "mimetype": "text/x-python",
   "name": "python",
   "nbconvert_exporter": "python",
   "pygments_lexer": "ipython3",
   "version": "3.7.0"
  }
 },
 "nbformat": 4,
 "nbformat_minor": 2
}
